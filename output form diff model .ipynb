{
 "cells": [
  {
   "cell_type": "code",
   "execution_count": null,
   "id": "37e67418",
   "metadata": {},
   "outputs": [],
   "source": [
    "Model Outputs\n",
    "\n",
    "1. Decision Tree:\n",
    "    Mean:  4.189504502474483\n",
    "    Standard deviation:  0.848096620323756\n",
    "        \n",
    "        \n",
    "2.  Linear regrassor:\n",
    "    mens: 5.031753312500728\n",
    "    Standerd deviation: 1.0589817673364557\n",
    "        \n",
    "    \n",
    "3.) random regrassor:\n",
    "    mens: 3.273080972439827\n",
    "    Standerd deviation: 0.60402418355209\n",
    "\n",
    "\n"
   ]
  }
 ],
 "metadata": {
  "kernelspec": {
   "display_name": "Python 3 (ipykernel)",
   "language": "python",
   "name": "python3"
  },
  "language_info": {
   "codemirror_mode": {
    "name": "ipython",
    "version": 3
   },
   "file_extension": ".py",
   "mimetype": "text/x-python",
   "name": "python",
   "nbconvert_exporter": "python",
   "pygments_lexer": "ipython3",
   "version": "3.9.4"
  }
 },
 "nbformat": 4,
 "nbformat_minor": 5
}
